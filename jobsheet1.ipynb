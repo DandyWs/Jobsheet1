{
  "nbformat": 4,
  "nbformat_minor": 0,
  "metadata": {
    "colab": {
      "provenance": [],
      "authorship_tag": "ABX9TyMJiRkrrrnJBjKgwSKMvd9G",
      "include_colab_link": true
    },
    "kernelspec": {
      "name": "python3",
      "display_name": "Python 3"
    },
    "language_info": {
      "name": "python"
    }
  },
  "cells": [
    {
      "cell_type": "markdown",
      "metadata": {
        "id": "view-in-github",
        "colab_type": "text"
      },
      "source": [
        "<a href=\"https://colab.research.google.com/github/DandyWs/Jobsheet1/blob/main/jobsheet1.ipynb\" target=\"_parent\"><img src=\"https://colab.research.google.com/assets/colab-badge.svg\" alt=\"Open In Colab\"/></a>"
      ]
    },
    {
      "cell_type": "markdown",
      "source": [
        "Percobaan 1"
      ],
      "metadata": {
        "id": "NYa_OW8n8-Am"
      }
    },
    {
      "cell_type": "code",
      "execution_count": 19,
      "metadata": {
        "id": "m33PKakH48_J"
      },
      "outputs": [],
      "source": [
        "graph = {\n",
        "    'A' : ['B','C'],\n",
        "    'B' : ['D','E'],\n",
        "    'C' : ['F'],\n",
        "    'D' : [],\n",
        "    'E' : ['F','G'],\n",
        "    'F' : ['H'],\n",
        "    'G' : ['H'],\n",
        "    'H' : ['G']\n",
        "}"
      ]
    },
    {
      "cell_type": "code",
      "source": [
        "visited = [] #list to keep track of visited nodes\n",
        "queue = []   #Initialized a queue"
      ],
      "metadata": {
        "id": "zqrgDrYg-4Md"
      },
      "execution_count": 20,
      "outputs": []
    },
    {
      "cell_type": "code",
      "source": [
        "def bfs(visited, graph, node):\n",
        "  visited.append(node)\n",
        "  queue.append(node)\n",
        "\n",
        "  while queue:\n",
        "    s = queue.pop(0)\n",
        "    print (s, end = \" \")\n",
        "\n",
        "    for neighbour in graph[s]:\n",
        "      if neighbour not in visited:\n",
        "        visited.append(neighbour)\n",
        "        queue.append(neighbour)"
      ],
      "metadata": {
        "id": "3k6em6xq_bXc"
      },
      "execution_count": 21,
      "outputs": []
    },
    {
      "cell_type": "code",
      "source": [
        "print(\"Hasil penulusuran menggunakan BFS: \")\n",
        "bfs(visited, graph, 'A')"
      ],
      "metadata": {
        "colab": {
          "base_uri": "https://localhost:8080/"
        },
        "id": "LmdBZAdzAZXa",
        "outputId": "9491db2c-9811-4c7f-db32-01e48c654a52"
      },
      "execution_count": 22,
      "outputs": [
        {
          "output_type": "stream",
          "name": "stdout",
          "text": [
            "Hasil penulusuran menggunakan BFS: \n",
            "A B C D E F G H "
          ]
        }
      ]
    },
    {
      "cell_type": "markdown",
      "source": [
        "Percobaan 2"
      ],
      "metadata": {
        "id": "7Jc3SulBAqml"
      }
    },
    {
      "cell_type": "code",
      "source": [
        "graph = {\n",
        "    'A' : ['B','C'],\n",
        "    'B' : ['C','D','E',],\n",
        "    'C' : ['F'],\n",
        "    'D' : [],\n",
        "    'E' : ['F'],\n",
        "    'F' : ['H'],\n",
        "    'G' : ['H'],\n",
        "    'H' : ['G']\n",
        "}"
      ],
      "metadata": {
        "id": "kqpd-PKJAtrx"
      },
      "execution_count": 33,
      "outputs": []
    },
    {
      "cell_type": "code",
      "source": [
        "visited = set()"
      ],
      "metadata": {
        "id": "Mu64rdfkA1oG"
      },
      "execution_count": 34,
      "outputs": []
    },
    {
      "cell_type": "code",
      "source": [
        "def dfs(visited, graph, node):\n",
        "  if node not in visited:\n",
        "    print (node)\n",
        "    visited.add(node)\n",
        "    for neighbour in graph[node]:\n",
        "      dfs(visited, graph, neighbour)"
      ],
      "metadata": {
        "id": "8LasC-N5A47Q"
      },
      "execution_count": 35,
      "outputs": []
    },
    {
      "cell_type": "code",
      "source": [
        "print(\"Hasil penelusuran graf menggunakan DFS:\")\n",
        "dfs(visited, graph, 'A')"
      ],
      "metadata": {
        "colab": {
          "base_uri": "https://localhost:8080/"
        },
        "id": "xBE8gwHIBTjd",
        "outputId": "e624ce44-0582-4d9a-df05-fbcac4c6e96e"
      },
      "execution_count": 36,
      "outputs": [
        {
          "output_type": "stream",
          "name": "stdout",
          "text": [
            "Hasil penelusuran graf menggunakan DFS:\n",
            "A\n",
            "B\n",
            "C\n",
            "F\n",
            "H\n",
            "G\n",
            "D\n",
            "E\n"
          ]
        }
      ]
    },
    {
      "cell_type": "markdown",
      "source": [
        "Latihan Praktikum\n",
        "1. Telusuri graf\n",
        "\n",
        "\n",
        "> BFS\n",
        "\n"
      ],
      "metadata": {
        "id": "T5aN-zL8B-uW"
      }
    },
    {
      "cell_type": "code",
      "source": [
        "graph = {\n",
        "    'A' : ['B','E','F'],\n",
        "    'B' : ['A','F','G'],\n",
        "    'C' : ['D','G'],\n",
        "    'D' : ['C','H'],\n",
        "    'E' : ['A','F'],\n",
        "    'F' : ['A','B','E'],\n",
        "    'G' : ['C','H'],\n",
        "    'H' : ['D','G']\n",
        "}\n",
        "\n",
        "visited = [] #list to keep track of visited nodes\n",
        "queue = []   #Initialized a queue\n",
        "\n",
        "def bfs(visited, graph, node):\n",
        "  visited.append(node)\n",
        "  queue.append(node)\n",
        "\n",
        "  while queue:\n",
        "    s = queue.pop(0)\n",
        "    print (s, end = \" \")\n",
        "\n",
        "    for neighbour in graph[s]:\n",
        "      if neighbour not in visited:\n",
        "        visited.append(neighbour)\n",
        "        queue.append(neighbour)\n",
        "\n",
        "print(\"Hasil penelusuran graf menggunakan BFS:\")\n",
        "bfs(visited, graph, 'A')"
      ],
      "metadata": {
        "colab": {
          "base_uri": "https://localhost:8080/"
        },
        "id": "7hDjVthmCLo1",
        "outputId": "5b412a85-013a-4b4d-c325-222edfef5c2e"
      },
      "execution_count": 17,
      "outputs": [
        {
          "output_type": "stream",
          "name": "stdout",
          "text": [
            "Hasil penelusuran graf menggunakan BFS:\n",
            "A B E F G C H D "
          ]
        }
      ]
    },
    {
      "cell_type": "markdown",
      "source": [
        "\n",
        "\n",
        "> DFS\n",
        "\n"
      ],
      "metadata": {
        "id": "au6gkKw-EJPK"
      }
    },
    {
      "cell_type": "code",
      "source": [
        "graph = {\n",
        "    'A' : ['B','E','F'],\n",
        "    'B' : ['A','F','G'],\n",
        "    'C' : ['D','G'],\n",
        "    'D' : ['C','H'],\n",
        "    'E' : ['A','F'],\n",
        "    'F' : ['A','B','E'],\n",
        "    'G' : ['C','H'],\n",
        "    'H' : ['D','G']\n",
        "}\n",
        "\n",
        "visited = set()\n",
        "\n",
        "def dfs(visited, graph, node):\n",
        "  if node not in visited:\n",
        "    print (node)\n",
        "    visited.add(node)\n",
        "    for neighbour in graph[node]:\n",
        "      dfs(visited, graph, neighbour)\n",
        "\n",
        "print(\"Hasil penelusuran graf menggunakan DFS:\")\n",
        "dfs(visited, graph, 'A')"
      ],
      "metadata": {
        "colab": {
          "base_uri": "https://localhost:8080/"
        },
        "id": "hb9QpJaTEMQH",
        "outputId": "bd19cc64-54fd-427f-d684-6e81bc7a2bd2"
      },
      "execution_count": 18,
      "outputs": [
        {
          "output_type": "stream",
          "name": "stdout",
          "text": [
            "Hasil penelusuran graf menggunakan DFS:\n",
            "A\n",
            "B\n",
            "F\n",
            "E\n",
            "G\n",
            "C\n",
            "D\n",
            "H\n"
          ]
        }
      ]
    },
    {
      "cell_type": "markdown",
      "source": [
        "2. Buatlah program untuk menelusuri mencari huruf 'D' pada graf berikut menggunakan:\n",
        "\n",
        "\n",
        "> BFS\n",
        "\n"
      ],
      "metadata": {
        "id": "ladkQeS-Eig5"
      }
    },
    {
      "cell_type": "code",
      "source": [
        "graph = {\n",
        "    'A' : ['B'],\n",
        "    'B' : ['A','F','G'],\n",
        "    'C' : ['D','G'],\n",
        "    'D' : ['C','H'],\n",
        "    'E' : ['F'],\n",
        "    'F' : ['B','E'],\n",
        "    'G' : ['B','C'],\n",
        "    'H' : ['D']\n",
        "}\n",
        "\n",
        "visited = [] #list to keep track of visited nodes\n",
        "queue = []   #Initialized a queue\n",
        "\n",
        "def bfs(visited, graph, node):\n",
        "  visited.append(node)\n",
        "  queue.append(node)\n",
        "\n",
        "  while queue:\n",
        "    s = queue.pop(0)\n",
        "    print (s, end = \" \")\n",
        "\n",
        "    for neighbour in graph[s]:\n",
        "      if neighbour not in visited:\n",
        "        visited.append(neighbour)\n",
        "        queue.append(neighbour)\n",
        "\n",
        "print(\"Hasil penelusuran graf menggunakan BFS:\")\n",
        "bfs(visited, graph, 'D')"
      ],
      "metadata": {
        "colab": {
          "base_uri": "https://localhost:8080/"
        },
        "id": "wipyNppWE5sx",
        "outputId": "d932ee02-ba12-4c21-cb6a-c63c40a6fb98"
      },
      "execution_count": 31,
      "outputs": [
        {
          "output_type": "stream",
          "name": "stdout",
          "text": [
            "Hasil penelusuran graf menggunakan BFS:\n",
            "D C H G B A F E "
          ]
        }
      ]
    },
    {
      "cell_type": "markdown",
      "source": [
        "\n",
        "\n",
        "> DFS\n",
        "\n"
      ],
      "metadata": {
        "id": "fXc8FygoMxbn"
      }
    },
    {
      "cell_type": "code",
      "source": [
        "graph = {\n",
        "    'A' : ['B'],\n",
        "    'B' : ['A','F','G'],\n",
        "    'C' : ['D','G'],\n",
        "    'D' : ['C','H'],\n",
        "    'E' : ['F'],\n",
        "    'F' : ['B','E'],\n",
        "    'G' : ['B','C'],\n",
        "    'H' : ['D']\n",
        "}\n",
        "\n",
        "visited = set()\n",
        "\n",
        "def dfs(visited, graph, node):\n",
        "  if node not in visited:\n",
        "    print (node)\n",
        "    visited.add(node)\n",
        "    for neighbour in graph[node]:\n",
        "      dfs(visited, graph, neighbour)\n",
        "\n",
        "print(\"Hasil penelusuran graf menggunakan DFS:\")\n",
        "dfs(visited, graph, 'D')"
      ],
      "metadata": {
        "colab": {
          "base_uri": "https://localhost:8080/"
        },
        "id": "h2Qye8V0M6KN",
        "outputId": "b9d21f8e-136c-4504-e0aa-f033cfa7473a"
      },
      "execution_count": 32,
      "outputs": [
        {
          "output_type": "stream",
          "name": "stdout",
          "text": [
            "Hasil penelusuran graf menggunakan DFS:\n",
            "D\n",
            "C\n",
            "G\n",
            "B\n",
            "A\n",
            "F\n",
            "E\n",
            "H\n"
          ]
        }
      ]
    }
  ]
}