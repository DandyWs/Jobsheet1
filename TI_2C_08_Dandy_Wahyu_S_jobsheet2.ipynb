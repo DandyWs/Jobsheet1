{
  "nbformat": 4,
  "nbformat_minor": 0,
  "metadata": {
    "colab": {
      "provenance": [],
      "collapsed_sections": [],
      "authorship_tag": "ABX9TyPloYi5rD1trSuV4huvTv+/",
      "include_colab_link": true
    },
    "kernelspec": {
      "name": "python3",
      "display_name": "Python 3"
    },
    "language_info": {
      "name": "python"
    }
  },
  "cells": [
    {
      "cell_type": "markdown",
      "metadata": {
        "id": "view-in-github",
        "colab_type": "text"
      },
      "source": [
        "<a href=\"https://colab.research.google.com/github/DandyWs/Jobsheet1/blob/main/TI_2C_08_Dandy_Wahyu_S_jobsheet2.ipynb\" target=\"_parent\"><img src=\"https://colab.research.google.com/assets/colab-badge.svg\" alt=\"Open In Colab\"/></a>"
      ]
    },
    {
      "cell_type": "markdown",
      "source": [
        "Percobaan 1: A* Search"
      ],
      "metadata": {
        "id": "-Ye9jGimA36h"
      }
    },
    {
      "cell_type": "code",
      "execution_count": null,
      "metadata": {
        "colab": {
          "base_uri": "https://localhost:8080/"
        },
        "id": "lBRQl2VSAtwz",
        "outputId": "c00ab348-398b-4aeb-c35f-0c9c5955920b"
      },
      "outputs": [
        {
          "output_type": "stream",
          "name": "stdout",
          "text": [
            "Path found: ['A', 'B', 'D']\n"
          ]
        },
        {
          "output_type": "execute_result",
          "data": {
            "text/plain": [
              "['A', 'B', 'D']"
            ]
          },
          "metadata": {},
          "execution_count": 3
        }
      ],
      "source": [
        "class Graph:\n",
        "  def __init__(self, adjacency_list):\n",
        "    self.adjacency_list = adjacency_list\n",
        "\n",
        "  def get_neighbors(self, v):\n",
        "    return self.adjacency_list[v]\n",
        "\n",
        "  #heuristic function with equal values for all nodes\n",
        "  def h(self, n):\n",
        "    H = {\n",
        "        'A':1,\n",
        "        'B':1,\n",
        "        'C':1,\n",
        "        'D':1\n",
        "    }\n",
        "    return H[n]\n",
        "\n",
        "  def a_star_algorithm(self, start_node, stop_node):\n",
        "    #open_list is a list of nodes which have been visited, but who's neighbors\n",
        "    #haven't all been inspected, starts off with the start node\n",
        "    #closed_list is a list of nodes which have been visited\n",
        "    #and who's neighbors have been inspected\n",
        "    open_list = set([start_node])\n",
        "    closed_list = set([])\n",
        "\n",
        "    # g contains current distances from start_node to all other nodes\n",
        "    # the default value (if it's not found in the map) is +infinity\n",
        "    g = {}\n",
        "\n",
        "    g[start_node] = 0\n",
        "\n",
        "    #parents contains an adjacency map of all nodes\n",
        "    parents = {}\n",
        "    parents[start_node] = start_node\n",
        "\n",
        "    while len(open_list) > 0:\n",
        "      n = None\n",
        "\n",
        "      #find a node with the lowes value of f() - evaluation function\n",
        "      for v in open_list:\n",
        "        if n == None or g[v] + self.h(v) < g[n] + self.h(n):\n",
        "          n = v;\n",
        "        \n",
        "      if n == None:\n",
        "        print('Path does not exist!')\n",
        "        return None\n",
        "      \n",
        "      #if the current node is the stop_node\n",
        "      #then we begin reconstruction the path from it to the start_node\n",
        "      if n == stop_node:\n",
        "        reconst_path = []\n",
        "\n",
        "        while parents[n] != n:\n",
        "          reconst_path.append(n)\n",
        "          n = parents[n]\n",
        "\n",
        "        reconst_path.append(start_node)\n",
        "        reconst_path.reverse()\n",
        "\n",
        "        print('Path found: {}'.format(reconst_path))\n",
        "        return reconst_path\n",
        "      \n",
        "      #for all neighbors of the current node do\n",
        "      for (m, weight) in self.get_neighbors(n):\n",
        "        #if the current node isn't in both open_list and closed_list\n",
        "        #add it to open_list and note n as it's parent\n",
        "        if m not in open_list and m not in  closed_list:\n",
        "          open_list.add(m)\n",
        "          parents[m] = n\n",
        "          g[m] = g[n] + weight\n",
        "\n",
        "        #otherwise, check if it's quicker to first visit n, then m\n",
        "        #and if it is, update parent data and g data\n",
        "        #and if the node was in the closed_list, move it to open_list\n",
        "        else:\n",
        "          if g[m] > g[n] + weight:\n",
        "            g[m] = g[n] + weight\n",
        "            parents[m] = n\n",
        "\n",
        "            if m in closed_list:\n",
        "              closed_list.remove(m)\n",
        "              open_list.add(m)\n",
        "\n",
        "      #remove n from the open_list, and add it to closed_list\n",
        "      #because all of his neighbors were inspected\n",
        "      open_list.remove(n)\n",
        "      closed_list.add(n)\n",
        "\n",
        "    print('Path does not exist!')\n",
        "    return None\n",
        "\n",
        "adjacency_list = {\n",
        "    'A': [('B', 1),('C', 3),('D', 7)],\n",
        "    'B': [('D', 5)],\n",
        "    'C': [('D', 12)]\n",
        "}\n",
        "graph1 = Graph(adjacency_list)\n",
        "graph1.a_star_algorithm('A', 'D')\n"
      ]
    },
    {
      "cell_type": "markdown",
      "source": [
        "TUGAS 1\n",
        "\n",
        "\n",
        "> Menggunakan Djikstra\n",
        "\n",
        "\n",
        "\n"
      ],
      "metadata": {
        "id": "HPq2mTPOzmat"
      }
    },
    {
      "cell_type": "code",
      "source": [
        "from queue import PriorityQueue\n",
        "class Graph1:\n",
        "  def __init__(self, num_of_vertices):\n",
        "    self.v = num_of_vertices\n",
        "    self.edges = [[-1 for i in range(num_of_vertices)] for j in range(num_of_vertices)]\n",
        "    self.visited = []\n",
        "  \n",
        "  def add_edge(self,u,v,weight):\n",
        "    self.edges[u][v]=weight\n",
        "    self.edges[v][u]=weight\n",
        "  \n",
        "  def djikstra(self, start_vertex):\n",
        "    D = {v:float('inf')for v in range(self.v)}\n",
        "    D[start_vertex]=0\n",
        "\n",
        "    pq = PriorityQueue()\n",
        "    pq.put((0,start_vertex))\n",
        "\n",
        "    while not pq.empty():\n",
        "      (dist,current_vertex) = pq.get()\n",
        "      self.visited.append(current_vertex)\n",
        "\n",
        "      for neighbor in range(self.v):\n",
        "        if self.edges[current_vertex][neighbor] != -1:\n",
        "          distance=self.edges[current_vertex][neighbor]\n",
        "          if neighbor not in self.visited:\n",
        "            old_cost = D[neighbor]\n",
        "            new_cost = D[current_vertex] + distance\n",
        "            if new_cost < old_cost:\n",
        "              pq.put((new_cost, neighbor))\n",
        "              D[neighbor]=new_cost\n",
        "    return D\n",
        "\n",
        "# 0 = A\n",
        "# 1 = B\n",
        "# 2 = C\n",
        "# 3 = D\n",
        "\n",
        "g=Graph1(4)\n",
        "g.add_edge(0, 1, 1)\n",
        "g.add_edge(0, 2, 3)\n",
        "g.add_edge(0, 3, 7)\n",
        "g.add_edge(1, 3, 5)\n",
        "g.add_edge(2, 3, 12)\n",
        "\n",
        "D = g.djikstra(0)\n",
        "print(\"Jarak dari vertex A ke vertex D adalah \",D[3])"
      ],
      "metadata": {
        "colab": {
          "base_uri": "https://localhost:8080/"
        },
        "id": "s7mv77Jlzo-d",
        "outputId": "cdb504ba-ca32-4b59-e867-424ac3db3a8e"
      },
      "execution_count": null,
      "outputs": [
        {
          "output_type": "stream",
          "name": "stdout",
          "text": [
            "Jarak dari vertex A ke vertex D adalah  6\n"
          ]
        }
      ]
    },
    {
      "cell_type": "markdown",
      "source": [
        "\n",
        "\n",
        "> Menggunakan BFS\n",
        "\n"
      ],
      "metadata": {
        "id": "qFiUMF1rlego"
      }
    },
    {
      "cell_type": "code",
      "source": [
        "from queue import PriorityQueue\n",
        "\n",
        "# Filling adjacency matrix with empty arrays\n",
        "vertices = 4\n",
        "graph = [[] for i in range(vertices)]\n",
        "\n",
        "\n",
        "# Function for adding edges to graph\n",
        "def add_edge(x, y, cost):\n",
        "    graph[x].append((y, cost))\n",
        "    graph[y].append((x, cost))\n",
        "\n",
        "\n",
        "# Function For Implementing Best First Search\n",
        "# Gives output path having the lowest cost\n",
        "def best_first_search(source, target, vertices):\n",
        "    visited = [0] * vertices\n",
        "    pq = PriorityQueue()\n",
        "    pq.put((0, source))\n",
        "    print(\"Path: \")\n",
        "    while not pq.empty():\n",
        "        u = pq.get()[1]\n",
        "        # Displaying the path having the lowest cost\n",
        "        print(u, end=\" \")\n",
        "        if u == target:\n",
        "            break\n",
        "\n",
        "        for v, c in graph[u]:\n",
        "            if not visited[v]:\n",
        "                visited[v] = True\n",
        "                pq.put((c, v))\n",
        "    print()\n",
        "\n",
        "\n",
        "# 0 = A\n",
        "# 1 = B\n",
        "# 2 = C\n",
        "# 3 = D\n",
        "add_edge(0, 1, 1)\n",
        "add_edge(0, 2, 3)\n",
        "add_edge(0, 3, 7)\n",
        "add_edge(1, 3, 5)\n",
        "add_edge(2, 3, 12)\n",
        "source = 0\n",
        "target = 3\n",
        "best_first_search(source, target, vertices)"
      ],
      "metadata": {
        "colab": {
          "base_uri": "https://localhost:8080/"
        },
        "id": "jUo2dsa3CVtz",
        "outputId": "7770cd93-0e3b-4890-f984-3ca1e576cd3d"
      },
      "execution_count": null,
      "outputs": [
        {
          "output_type": "stream",
          "name": "stdout",
          "text": [
            "Path: \n",
            "0 1 0 2 3 \n"
          ]
        }
      ]
    },
    {
      "cell_type": "markdown",
      "source": [
        "Percobaan 2: Implementasi Algoritma Greedy"
      ],
      "metadata": {
        "id": "mir7GoQYK3tM"
      }
    },
    {
      "cell_type": "code",
      "source": [
        "DAG = {'A': {'C':4,'G':9},\n",
        "       'G':{'E':6},\n",
        "       'C':{'D':6,'H':12},\n",
        "       'D':{'E':7},\n",
        "       'H':{'F':15},\n",
        "       'E':{'F':8},\n",
        "       'F':{'B':5}}\n",
        "\n",
        "def shortest_path(graph,source,dest):\n",
        "  result=[]\n",
        "  result.append(source)\n",
        "  lm=[]\n",
        "  while dest not in result:\n",
        "    current_node=result[-1]\n",
        "    local_max=min(graph[current_node].values())\n",
        "    for node, weight in graph[current_node].items():\n",
        "      if weight == local_max:\n",
        "        result.append(node)\n",
        "        lm.append(local_max)\n",
        "  print(\"Jumlah Path Cost\",sum(lm))\n",
        "  return result\n",
        "print(\"Hasil Pencarian Algoritma Greedy\")\n",
        "print(shortest_path(DAG,'A', 'F'))\n"
      ],
      "metadata": {
        "colab": {
          "base_uri": "https://localhost:8080/"
        },
        "id": "JpldaoCALPsz",
        "outputId": "7a97d18f-f292-44cd-fe91-ed34ba1dd80a"
      },
      "execution_count": null,
      "outputs": [
        {
          "output_type": "stream",
          "name": "stdout",
          "text": [
            "Hasil Pencarian Algoritma Greedy\n",
            "Jumlah Path Cost 25\n",
            "['A', 'C', 'D', 'E', 'F']\n"
          ]
        }
      ]
    },
    {
      "cell_type": "markdown",
      "source": [
        "Percobaan 3: Menyelesaikan Knapsack Problem dengan Algoritma Greedy"
      ],
      "metadata": {
        "id": "Z46eqYjKRh9-"
      }
    },
    {
      "cell_type": "code",
      "source": [
        "from operator import itemgetter, attrgetter\n",
        "w = [3,4,1,7,6,8,9]\n",
        "p = [4,5,2,5,5,8,11]\n",
        "item = [[3,4],[4,5],[1,2],[7,5],[6,5],[8,8],[9,11]]\n",
        "\n",
        "i=0\n",
        "while i<len(item):\n",
        "  hasil = item[i][1]/item[i][0]\n",
        "  item[i].append(hasil)\n",
        "  i += 1\n",
        "\n",
        "data = sorted(item,key=itemgetter(2),reverse=True)\n",
        "\n",
        "def knapsack(data,cap,flag):\n",
        "  total=0\n",
        "  tres=\"\"\n",
        "  if(flag==0):\n",
        "    dataS=sorted(data,key=itemgetter(flag),reverse=True)\n",
        "    tres=\"bobot prioritas: \"\n",
        "  elif(flag==1):\n",
        "    dataS=sorted(data,key=itemgetter(flag),reverse=True)\n",
        "    tres=\"keuntungan prioritas: \"\n",
        "  elif(flag==2):\n",
        "    dataS=sorted(data,key=itemgetter(flag),reverse=True)\n",
        "    tres=\"p prioritas: \"\n",
        "  else:\n",
        "    return \"Error\"\n",
        "  \n",
        "  j=0\n",
        "  hasil=0\n",
        "  #print(\"sini\")\n",
        "  cek=0\n",
        "  weight=0\n",
        "  while(j<len(dataS)):\n",
        "    if(cek+dataS[j][0]<=cap):\n",
        "      hasil=hasil+dataS[j][1]\n",
        "      weight=weight+dataS[j][0]\n",
        "      print(dataS[j][0])\n",
        "    cek=weight\n",
        "    j+=1;\n",
        "    #print(\"here\")\n",
        "  return(\"Optimal dalam \"+str(tres)+str(hasil))\n",
        "\n",
        "print(knapsack(item,20,0))\n",
        "print(knapsack(item,20,1))\n",
        "print(knapsack(item,20,2))"
      ],
      "metadata": {
        "colab": {
          "base_uri": "https://localhost:8080/"
        },
        "id": "k-2hSthoT8BD",
        "outputId": "c6cd9bfd-946c-41de-d261-1e111fe46882"
      },
      "execution_count": null,
      "outputs": [
        {
          "output_type": "stream",
          "name": "stdout",
          "text": [
            "9\n",
            "8\n",
            "3\n",
            "Optimal dalam bobot prioritas: 23\n",
            "9\n",
            "8\n",
            "3\n",
            "Optimal dalam keuntungan prioritas: 23\n",
            "1\n",
            "3\n",
            "4\n",
            "9\n",
            "Optimal dalam p prioritas: 22\n"
          ]
        }
      ]
    }
  ]
}